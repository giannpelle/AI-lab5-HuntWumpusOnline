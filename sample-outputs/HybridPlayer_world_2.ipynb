{
 "cells": [
  {
   "cell_type": "code",
   "execution_count": 1,
   "metadata": {},
   "outputs": [
    {
     "name": "stdout",
     "output_type": "stream",
     "text": [
      "---------- Playing on world: ----------\n",
      "{\"size\": [4, 4], \"hunters\": [[0, 0, \"N\"]], \"pits\": [[1, 0], [2, 1], [3, 3]], \"wumpuses\": [[0, 3]], \"exits\": [[0, 0]], \"golds\": [[2, 3]]}\n",
      "----------------------------------------\n",
      "┌───┬───┬───┬───┐\n",
      "│W  │   │ G │  P│\n",
      "│   │   │   │   │\n",
      "├───┼───┼───┼───┤\n",
      "│   │   │   │   │\n",
      "│   │   │   │   │\n",
      "├───┼───┼───┼───┤\n",
      "│   │   │  P│   │\n",
      "│   │   │   │   │\n",
      "├───┼───┼───┼───┤\n",
      "│   │  P│   │   │\n",
      "│ @^│   │   │   │\n",
      "└───┴───┴───┴───┘\n",
      "Step 0: agent Hunter_b849429d executing CLIMB -> reward -1\n",
      "The agent Hunter_b849429d succeeded!\n",
      "┌───┬───┬───┬───┐\n",
      "│W  │   │ G │  P│\n",
      "│   │   │   │   │\n",
      "├───┼───┼───┼───┤\n",
      "│   │   │   │   │\n",
      "│   │   │   │   │\n",
      "├───┼───┼───┼───┤\n",
      "│   │   │  P│   │\n",
      "│   │   │   │   │\n",
      "├───┼───┼───┼───┤\n",
      "│   │  P│   │   │\n",
      "│ @^│   │   │   │\n",
      "└───┴───┴───┴───┘\n",
      "Episode terminated with a reward of -1 for agent Hunter_b849429d\n",
      "--- 1.4259178638458252 seconds ---\n"
     ]
    }
   ],
   "source": [
    "# Run the wumpus player with Baysian network and SAT Solver\n",
    "\n",
    "import time\n",
    "start_time = time.time()\n",
    "!gridrunner --world WumpusWorld --entry wumpus-usage:OnlineDFSPlayer --horizon 200\n",
    "print(\"--- %s seconds ---\" % (time.time() - start_time))"
   ]
  },
  {
   "cell_type": "code",
   "execution_count": null,
   "metadata": {},
   "outputs": [],
   "source": []
  }
 ],
 "metadata": {
  "kernelspec": {
   "display_name": "Python 3",
   "language": "python",
   "name": "python3"
  },
  "language_info": {
   "codemirror_mode": {
    "name": "ipython",
    "version": 3
   },
   "file_extension": ".py",
   "mimetype": "text/x-python",
   "name": "python",
   "nbconvert_exporter": "python",
   "pygments_lexer": "ipython3",
   "version": "3.8.6"
  }
 },
 "nbformat": 4,
 "nbformat_minor": 4
}
